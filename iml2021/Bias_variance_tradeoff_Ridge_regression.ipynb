{
 "cells": [
  {
   "cell_type": "code",
   "execution_count": 1,
   "metadata": {
    "id": "sCpRV5wwmqiK"
   },
   "outputs": [
    {
     "name": "stdout",
     "output_type": "stream",
     "text": [
      "The autoreload extension is already loaded. To reload it, use:\n",
      "  %reload_ext autoreload\n"
     ]
    },
    {
     "data": {
      "text/html": [
       "<style>.container { width:100% !important; }</style>"
      ],
      "text/plain": [
       "<IPython.core.display.HTML object>"
      ]
     },
     "metadata": {},
     "output_type": "display_data"
    }
   ],
   "source": [
    "# Source: Alexandru Tifrea and Fanny Yang, 2021.\n",
    "\n",
    "# Python Notebook Commands\n",
    "%reload_ext autoreload\n",
    "%load_ext autoreload\n",
    "%autoreload 2\n",
    "\n",
    "from IPython.core.display import display, HTML\n",
    "\n",
    "display(HTML(\"<style>.container { width:100% !important; }</style>\"))\n",
    "\n",
    "from copy import deepcopy\n",
    "import numpy as np\n",
    "import time\n",
    "\n",
    "import plotly\n",
    "import plotly.graph_objects as go\n",
    "import plotly.express as px\n",
    "from plotly.subplots import make_subplots\n",
    "import plotly.io as pio\n",
    "\n",
    "import ipywidgets\n",
    "from ipywidgets import interact, interactive, interact_manual\n",
    "\n",
    "import sklearn\n",
    "from sklearn.linear_model import LinearRegression, Ridge\n",
    "from sklearn.model_selection import cross_val_score, GridSearchCV\n",
    "\n",
    "from utils import generate_data, generate_additional_data, compute_population_risk, compute_empirical_risk, repeat_experiment, get_risk_vs_overparametrization\n",
    "\n",
    "# Change these values if the images don't fit for your screen.\n",
    "figure_width = 1200\n",
    "figure_height = 500"
   ]
  },
  {
   "cell_type": "markdown",
   "metadata": {},
   "source": [
    "# Bias-variance trade-off for ridge regression"
   ]
  },
  {
   "cell_type": "markdown",
   "metadata": {},
   "source": [
    "We can estimate the bias and the variance of an estimator by sampling different training sets, and using a hold-out validation set to compute its empirical error.\n",
    "\n",
    "The stacked area plot below illustrates the decomposition of the risk into three terms: the squared bias, the variance, and irreducible noise."
   ]
  },
  {
   "cell_type": "code",
   "execution_count": 2,
   "metadata": {},
   "outputs": [
    {
     "data": {
      "application/vnd.jupyter.widget-view+json": {
       "model_id": "b698db8c0ccc408a9a74e3b959e343b3",
       "version_major": 2,
       "version_minor": 0
      },
      "text/plain": [
       "interactive(children=(FloatSlider(value=200.0, continuous_update=False, description='Number of samples:', max=…"
      ]
     },
     "metadata": {},
     "output_type": "display_data"
    }
   ],
   "source": [
    "validation_size = 1000\n",
    "num_trials = 5\n",
    "snr = 1\n",
    "\n",
    "all_noise_sigmas = [0, 0.1, 0.5, 1]\n",
    "\n",
    "\n",
    "def plot_bias_variance_for_ridge(n, d, noise_sigma):\n",
    "    ridge_coefficients = np.arange(0, 20, 1)\n",
    "    risks, squared_biases, variances = [], [], []\n",
    "    n, d = int(n), int(d)\n",
    "\n",
    "    # Sample the validation set and one traing set for each of the trials.\n",
    "    X_validation, y_validation, beta_star, Sigma = generate_data(\n",
    "        n=validation_size, d=d, snr=snr, noise_sigma=noise_sigma)\n",
    "    all_X, all_y = generate_additional_data(num_samples=n * num_trials,\n",
    "                                            d=d,\n",
    "                                            Sigma=Sigma,\n",
    "                                            beta_star=beta_star,\n",
    "                                            noise_sigma=noise_sigma)\n",
    "    for ridge_coef in ridge_coefficients:\n",
    "        validation_predictions, validation_bayes_predictions = [], []\n",
    "\n",
    "        # Train num_trials estimators and use the validation set to estimate the bias and variance.\n",
    "        for i in range(num_trials):\n",
    "            start, end = i * n, (i + 1) * n\n",
    "            # Compute closed form solution of the ridge regression optimization problem.\n",
    "            beta_hat = 1 / (1 + ridge_coef) * np.linalg.inv(\n",
    "                all_X[start:end].T\n",
    "                @ all_X[start:end]) @ all_X[start:end].T @ all_y[start:end]\n",
    "            validation_predictions.append(\n",
    "                (X_validation @ beta_hat).reshape(-1, 1))\n",
    "            validation_bayes_predictions.append(\n",
    "                (X_validation @ beta_star).reshape(-1, 1))\n",
    "\n",
    "        validation_predictions, validation_bayes_predictions = np.array(\n",
    "            validation_predictions), np.array(validation_bayes_predictions)\n",
    "        risks.append(np.power(validation_predictions - y_validation, 2).mean())\n",
    "        variances.append(\n",
    "            np.power(\n",
    "                validation_predictions - validation_predictions.mean(axis=0),\n",
    "                2).mean())\n",
    "        squared_biases.append(\n",
    "            max(0, risks[-1] - variances[-1] - noise_sigma**2))\n",
    "\n",
    "    fig = go.Figure()\n",
    "    fig.add_trace(\n",
    "        go.Scatter(x=ridge_coefficients,\n",
    "                   y=np.ones_like(ridge_coefficients) * noise_sigma**2,\n",
    "                   name=\"Irreducible noise\",\n",
    "                   marker_color=\"gray\"))\n",
    "    fig.add_trace(\n",
    "        go.Scatter(x=ridge_coefficients, y=variances, name=\"Variance\"))\n",
    "    fig.add_trace(\n",
    "        go.Scatter(x=ridge_coefficients,\n",
    "                   y=squared_biases,\n",
    "                   name=\"Bias<sup>2</sup>\"))\n",
    "    fig.add_trace(go.Scatter(x=ridge_coefficients, y=risks, name=\"Risk\"))\n",
    "\n",
    "    if noise_sigma == 0.5:\n",
    "        yaxis_range = [0, 1.5]\n",
    "    elif noise_sigma == 1:\n",
    "        yaxis_range = [0, 2.2]\n",
    "    else:\n",
    "        yaxis_range = [0, 1.05]\n",
    "\n",
    "    fig.update_layout(height=figure_height,\n",
    "                      width=figure_width,\n",
    "                      yaxis_range=yaxis_range,\n",
    "                      yaxis_title=\"Risk / Bias / Variance\",\n",
    "                      xaxis_title=\"Ridge coefficient\",\n",
    "                      hovermode='x')\n",
    "    fig.show()\n",
    "\n",
    "\n",
    "_ = interact(\n",
    "    plot_bias_variance_for_ridge,\n",
    "    n=ipywidgets.FloatSlider(value=200,\n",
    "                             min=100,\n",
    "                             max=500,\n",
    "                             step=10,\n",
    "                             readout_format='d',\n",
    "                             description='Number of samples:',\n",
    "                             style={'description_width': 'initial'},\n",
    "                             continuous_update=False),\n",
    "    d=ipywidgets.FloatSlider(value=100,\n",
    "                             min=10,\n",
    "                             max=100,\n",
    "                             step=10,\n",
    "                             readout_format='d',\n",
    "                             description='Data dimension:',\n",
    "                             style={'description_width': 'initial'},\n",
    "                             continuous_update=False),\n",
    "    noise_sigma=ipywidgets.Dropdown(options=all_noise_sigmas,\n",
    "                                    value=0.5,\n",
    "                                    description='Noise level:',\n",
    "                                    disabled=False,\n",
    "                                    style={'description_width': 'initial'},\n",
    "                                    continuous_update=True),\n",
    ")"
   ]
  },
  {
   "cell_type": "markdown",
   "metadata": {},
   "source": [
    "# Effect of overparametrization for ridge regression"
   ]
  },
  {
   "cell_type": "code",
   "execution_count": 3,
   "metadata": {
    "id": "Dg_cFNDx4_Ul"
   },
   "outputs": [],
   "source": [
    "def plot_risk_vs_overparametrization(n=None,\n",
    "                                     d=None,\n",
    "                                     cov_type=\"isotropic\",\n",
    "                                     num_runs=1):\n",
    "    assert (n is not None) or (d is not None)\n",
    "\n",
    "    all_snr = [1]\n",
    "    all_gammas = np.concatenate((\n",
    "        np.arange(0.1, 2, 0.1),\n",
    "        # Uncomment this line for higher overparameterization, but at the cost of\n",
    "        # longer computation time.\n",
    "        # np.arange(3, 10)\n",
    "    ))\n",
    "    params = {\n",
    "        \"all_gammas\": all_gammas,\n",
    "        \"all_snr\": all_snr,\n",
    "        \"fix_n_vary_d\": (n is not None),\n",
    "        \"cov_type\": cov_type,\n",
    "        \"use_ridge\": True,\n",
    "    }\n",
    "    if n is not None:\n",
    "        params[\"n\"] = n\n",
    "    else:\n",
    "        params[\"d\"] = d\n",
    "    ridge_aggregated_risks = repeat_experiment(\n",
    "        num_runs, get_risk_vs_overparametrization, params)\n",
    "    params[\"use_ridge\"] = False\n",
    "    ridgeless_aggregated_risks = repeat_experiment(\n",
    "        num_runs, get_risk_vs_overparametrization, params)\n",
    "\n",
    "    fig = go.Figure()\n",
    "    for snr in all_snr:\n",
    "        fig.add_trace(\n",
    "            go.Scatter(x=all_gammas,\n",
    "                       y=ridge_aggregated_risks[snr],\n",
    "                       name=\"Ridge regression\"))\n",
    "        fig.add_trace(\n",
    "            go.Scatter(x=all_gammas,\n",
    "                       y=ridgeless_aggregated_risks[snr],\n",
    "                       name=\"Ridgeless regression\"))\n",
    "    fig.update_layout(\n",
    "        height=figure_height,\n",
    "        width=figure_width,\n",
    "        yaxis_type=\"log\",\n",
    "        yaxis_range=[0, 1],\n",
    "        yaxis_title=\"Population risk\",\n",
    "        xaxis_type=\"log\",\n",
    "        xaxis_title=\"$\\Large\\gamma=d/n$\",\n",
    "        title=f\"Fixed n={int(n)}\"\n",
    "        if params[\"fix_n_vary_d\"] else f\"Fixed d={int(d)}\",\n",
    "    )\n",
    "    fig.show()"
   ]
  },
  {
   "cell_type": "markdown",
   "metadata": {
    "id": "dtey1_FGA4ww"
   },
   "source": [
    "### Select the number of samples"
   ]
  },
  {
   "cell_type": "code",
   "execution_count": 4,
   "metadata": {
    "colab": {
     "base_uri": "https://localhost:8080/",
     "height": 613,
     "referenced_widgets": [
      "288c9d0e04b346bd997ed5fa8e57c72f",
      "a92ae6827ceb4d7bbfd54131326f8fc4",
      "a58251239bb444ecb1057b30905d3751",
      "04e588bd63d64af89d8bcd186047ca48",
      "d2d38b322c894715842884e2baa91c44",
      "7d6cb85d737847588f241770507d9c97",
      "5f0c64edb0a1448580a3827387c2d283",
      "e2740951b7254f66815bef6a46e850df",
      "ab4c6402ecc04adebb4632867404117b",
      "808ed231a0854339bc4f1ea1a8ec84a0",
      "8f83a7ba43f049359fc91236d627df36",
      "401367351a0443a59f25a5eed6ff3ed1",
      "5eee206569dc42c0b9546ce108a8235a"
     ]
    },
    "id": "H0BM-sHJA4A7",
    "outputId": "89b5c5d6-249f-41ea-d8e8-546146917aff",
    "scrolled": false
   },
   "outputs": [
    {
     "data": {
      "application/vnd.jupyter.widget-view+json": {
       "model_id": "f5a56935b34c465b97b99c42c423e165",
       "version_major": 2,
       "version_minor": 0
      },
      "text/plain": [
       "interactive(children=(FloatSlider(value=100.0, continuous_update=False, description='Number of samples:', max=…"
      ]
     },
     "metadata": {},
     "output_type": "display_data"
    },
    {
     "data": {
      "text/plain": [
       "<function __main__.<lambda>(n, cov_type, num_runs)>"
      ]
     },
     "execution_count": 4,
     "metadata": {},
     "output_type": "execute_result"
    }
   ],
   "source": [
    "_ = interact(\n",
    "    lambda n, cov_type, num_runs: plot_risk_vs_overparametrization(\n",
    "        n=n, cov_type=cov_type, num_runs=num_runs),\n",
    "    n=ipywidgets.FloatSlider(value=100,\n",
    "                             min=100,\n",
    "                             max=200,\n",
    "                             step=10,\n",
    "                             readout_format='d',\n",
    "                             description='Number of samples:',\n",
    "                             style={'description_width': 'initial'},\n",
    "                             continuous_update=False),\n",
    "    cov_type=ipywidgets.Dropdown(options=[\"isotropic\", \"misspecified\"],\n",
    "                                 value=\"isotropic\",\n",
    "                                 description='Covariance model:',\n",
    "                                 disabled=False,\n",
    "                                 style={'description_width': 'initial'},\n",
    "                                 continuous_update=False),\n",
    "    num_runs=ipywidgets.Dropdown(options=[1, 3, 5, 10],\n",
    "                                 value=1,\n",
    "                                 description='Number of experiments:',\n",
    "                                 disabled=False,\n",
    "                                 style={'description_width': 'initial'},\n",
    "                                 continuous_update=False),\n",
    ")"
   ]
  },
  {
   "cell_type": "markdown",
   "metadata": {
    "id": "Q6eqYP8YBBDa"
   },
   "source": [
    "### Select the dimension of the data"
   ]
  },
  {
   "cell_type": "code",
   "execution_count": 5,
   "metadata": {
    "colab": {
     "base_uri": "https://localhost:8080/",
     "height": 613,
     "referenced_widgets": [
      "faecb0a4bf5b4241b285b079e214ca5d",
      "e2405df6912844108ae6b7dd0cca26bf",
      "4a1aff544d1b4789936909fa9d1c00e5",
      "5b6b4773958845b0a9c5264e65fcda85",
      "b999849e41984e7bab5ba29944e5e885",
      "1665c5bb69364a0b86a0f02cbb6d3bdb",
      "a1560d8790ec458fa4b2ca7233c4db70",
      "b7892ff133b24d44b9069fb3d75ca2a6",
      "fadc638e6a1b4072ad479c1420e52d7c",
      "577a32cc2e024989a55279c4ce8e7265",
      "1ce75972e4a545bc8720b11d36f3bd7b",
      "93c8be6f9ca54a30a843017147e5f404",
      "481a0a80f1db44d9a1b7d97cd95260d3"
     ]
    },
    "id": "6uIB3gCLA34A",
    "outputId": "c11cce76-a710-4d9b-d1df-e45a9c266e70"
   },
   "outputs": [
    {
     "data": {
      "application/vnd.jupyter.widget-view+json": {
       "model_id": "8db5bd6470ee489ea578292a4901726f",
       "version_major": 2,
       "version_minor": 0
      },
      "text/plain": [
       "interactive(children=(FloatSlider(value=20.0, continuous_update=False, description='Data dimension:', max=1000…"
      ]
     },
     "metadata": {},
     "output_type": "display_data"
    },
    {
     "data": {
      "text/plain": [
       "<function __main__.<lambda>(d, cov_type, num_runs)>"
      ]
     },
     "execution_count": 5,
     "metadata": {},
     "output_type": "execute_result"
    }
   ],
   "source": [
    "_ = interact(\n",
    "    lambda d, cov_type, num_runs: plot_risk_vs_overparametrization(\n",
    "        d=d, cov_type=cov_type, num_runs=num_runs),\n",
    "    d=ipywidgets.FloatSlider(value=20,\n",
    "                             min=20,\n",
    "                             max=1000,\n",
    "                             step=10,\n",
    "                             readout_format='d',\n",
    "                             description='Data dimension:',\n",
    "                             style={'description_width': 'initial'},\n",
    "                             continuous_update=False),\n",
    "    cov_type=ipywidgets.Dropdown(options=[\"isotropic\", \"misspecified\"],\n",
    "                                 value=\"isotropic\",\n",
    "                                 description='Covariance model:',\n",
    "                                 disabled=False,\n",
    "                                 style={'description_width': 'initial'},\n",
    "                                 continuous_update=False),\n",
    "    num_runs=ipywidgets.Dropdown(options=[1, 3, 5, 10],\n",
    "                                 value=1,\n",
    "                                 description='Number of experiments:',\n",
    "                                 disabled=False,\n",
    "                                 style={'description_width': 'initial'},\n",
    "                                 continuous_update=False),\n",
    ")"
   ]
  },
  {
   "cell_type": "code",
   "execution_count": null,
   "metadata": {},
   "outputs": [],
   "source": []
  }
 ],
 "metadata": {
  "colab": {
   "name": "Bias-variance tradeoff - Ridge regression.ipynb",
   "provenance": []
  },
  "kernelspec": {
   "display_name": "Python 3",
   "language": "python",
   "name": "python3"
  },
  "language_info": {
   "codemirror_mode": {
    "name": "ipython",
    "version": 3
   },
   "file_extension": ".py",
   "mimetype": "text/x-python",
   "name": "python",
   "nbconvert_exporter": "python",
   "pygments_lexer": "ipython3",
   "version": "3.8.5"
  },
  "varInspector": {
   "cols": {
    "lenName": 16,
    "lenType": 16,
    "lenVar": 40
   },
   "kernels_config": {
    "python": {
     "delete_cmd_postfix": "",
     "delete_cmd_prefix": "del ",
     "library": "var_list.py",
     "varRefreshCmd": "print(var_dic_list())"
    },
    "r": {
     "delete_cmd_postfix": ") ",
     "delete_cmd_prefix": "rm(",
     "library": "var_list.r",
     "varRefreshCmd": "cat(var_dic_list()) "
    }
   },
   "types_to_exclude": [
    "module",
    "function",
    "builtin_function_or_method",
    "instance",
    "_Feature"
   ],
   "window_display": false
  }
 },
 "nbformat": 4,
 "nbformat_minor": 1
}
