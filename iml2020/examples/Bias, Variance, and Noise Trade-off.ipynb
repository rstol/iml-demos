{
 "cells": [
  {
   "cell_type": "code",
   "execution_count": 1,
   "metadata": {
    "scrolled": false
   },
   "outputs": [
    {
     "name": "stdout",
     "output_type": "stream",
     "text": [
      "The autoreload extension is already loaded. To reload it, use:\n",
      "  %reload_ext autoreload\n"
     ]
    }
   ],
   "source": [
    "# Code source: Sebastian Curi and Andreas Krause, based on Jaques Grobler (sklearn demos).\n",
    "# License: BSD 3 clause\n",
    "\n",
    "# We start importing some modules and running some magic commands\n",
    "%matplotlib inline\n",
    "%reload_ext autoreload\n",
    "%load_ext autoreload\n",
    "%autoreload 2\n",
    "\n",
    "# General math and plotting modules.\n",
    "import numpy as np\n",
    "import matplotlib as mpl\n",
    "import matplotlib.pyplot as plt\n",
    "\n",
    "# Project files.\n",
    "from utilities.util import gradient_descent\n",
    "from utilities.load_data import polynomial_data\n",
    "from utilities import plot_helpers\n",
    "\n",
    "# Widget and formatting modules\n",
    "import ipywidgets\n",
    "from ipywidgets import interact, interactive, interact_manual, fixed\n",
    "from matplotlib import rcParams\n",
    "rcParams['figure.figsize'] = (10, 6)\n",
    "rcParams['font.size'] = 16\n",
    "\n",
    "# Machine Learning library. \n",
    "from sklearn.pipeline import Pipeline\n",
    "from sklearn.preprocessing import PolynomialFeatures\n",
    "from sklearn.linear_model import Ridge\n",
    "from sklearn.model_selection import cross_val_score\n"
   ]
  },
  {
   "cell_type": "code",
   "execution_count": 2,
   "metadata": {
    "scrolled": false
   },
   "outputs": [
    {
     "data": {
      "application/vnd.jupyter.widget-view+json": {
       "model_id": "d1021dd8dfd44e3ea695e8ea16bdda44",
       "version_major": 2,
       "version_minor": 0
      },
      "text/plain": [
       "interactive(children=(IntSlider(value=30, continuous_update=False, description='Number of samples:', max=300, …"
      ]
     },
     "metadata": {},
     "output_type": "display_data"
    }
   ],
   "source": [
    "rcParams['figure.figsize'] = (15, 6)\n",
    "rcParams['font.size'] = 20\n",
    "\n",
    "def true_fun(X):\n",
    "    return np.cos(1.5 * np.pi * X)\n",
    "\n",
    "def bias_variance_to(n_samples, degree, alpha, noise):\n",
    "    np.random.seed(0)\n",
    "\n",
    "    X = np.sort(np.random.rand(n_samples))\n",
    "    y = true_fun(X) + np.random.randn(n_samples) * noise\n",
    "\n",
    "    polynomial_features = PolynomialFeatures(degree=degree,\n",
    "                                             include_bias=True)\n",
    "    linear_regression = Ridge(alpha=alpha)\n",
    "    pipeline = Pipeline([(\"polynomial_features\", polynomial_features),\n",
    "                         (\"linear_regression\", linear_regression)])\n",
    "    pipeline.fit(X[:, np.newaxis], y)\n",
    "\n",
    "    # Evaluate the models using crossvalidation\n",
    "    scores = cross_val_score(pipeline, X[:, np.newaxis], y,\n",
    "                             scoring=\"neg_mean_squared_error\", cv=10)\n",
    "\n",
    "    X_test = np.linspace(-1, 2, 100)\n",
    "    plt.plot(X_test, pipeline.predict(X_test[:, np.newaxis]), label=\"Model\")\n",
    "    plt.plot(X_test, true_fun(X_test), label=\"True function\")\n",
    "    plt.scatter(X, y, edgecolor='b', s=20, label=\"Samples\")\n",
    "    plt.xlabel(\"x\")\n",
    "    plt.ylabel(\"y\")\n",
    "    plt.xlim((-0.5, 1.5))\n",
    "    plt.ylim((-2, 2))\n",
    "    plt.legend(loc=\"lower left\")\n",
    "    plt.title(\"Degree {}\\nMSE = {:.2e}(+/- {:.2e})\".format(\n",
    "        degree, -scores.mean(), scores.std()))\n",
    "    plt.show()\n",
    "    \n",
    "interact(bias_variance_to, \n",
    "        n_samples=ipywidgets.IntSlider(value=30,\n",
    "                                         min=30,\n",
    "                                         max=300,\n",
    "                                         step=1,\n",
    "                                         description='Number of samples:',\n",
    "                                         style={'description_width': 'initial'},\n",
    "                                         continuous_update=False),\n",
    "        degree=ipywidgets.IntSlider(value=1,\n",
    "                                         min=1,\n",
    "                                         max=9,\n",
    "                                         step=1,\n",
    "                                         description='Polynomial Degree:',\n",
    "                                         style={'description_width': 'initial'},\n",
    "                                         continuous_update=False),\n",
    "         alpha=ipywidgets.BoundedFloatText(value=0,\n",
    "                                         min=0,\n",
    "                                         max=1000,\n",
    "                                         step=0.0001, description='Regularization:',\n",
    "                                         style={'description_width': 'initial'},\n",
    "                                          continuous_update=False),\n",
    "         noise=ipywidgets.FloatSlider(value=0.1,\n",
    "                                      min=0,\n",
    "                                      max=1,\n",
    "                                      step=0.01,\n",
    "                                      readout_format='.2f',\n",
    "                                      description='Noise level:',\n",
    "                                      style={'description_width': 'initial'},\n",
    "                                      continuous_update=False),);"
   ]
  },
  {
   "cell_type": "code",
   "execution_count": 3,
   "metadata": {
    "scrolled": false
   },
   "outputs": [
    {
     "data": {
      "application/vnd.jupyter.widget-view+json": {
       "model_id": "fd289b4911a045e3a110175cea3e16ca",
       "version_major": 2,
       "version_minor": 0
      },
      "text/plain": [
       "interactive(children=(ToggleButton(value=False, description='Resample!'), BoundedFloatText(value=0.0, descript…"
      ]
     },
     "metadata": {},
     "output_type": "display_data"
    }
   ],
   "source": [
    "degrees = np.arange(1, 10, 1)\n",
    "rcParams['figure.figsize'] = (20, 6)\n",
    "rcParams['font.size'] = 16\n",
    "\n",
    "def bias_variance_tradeoff(b, alpha, n_samples, noise):\n",
    "    n_samples = int(n_samples)\n",
    "#     np.random.seed(0)\n",
    "    score = []\n",
    "    bias = []\n",
    "    variance = []\n",
    "\n",
    "    for degree in degrees:\n",
    "        X = np.sort(np.random.rand(n_samples))\n",
    "        y = true_fun(X) + np.random.randn(n_samples) * noise\n",
    "\n",
    "        polynomial_features = PolynomialFeatures(degree=degree,\n",
    "                                                 include_bias=True)\n",
    "        linear_regression = Ridge(alpha=alpha)\n",
    "        pipeline = Pipeline([(\"polynomial_features\", polynomial_features),\n",
    "                             (\"linear_regression\", linear_regression)])\n",
    "        pipeline.fit(X[:, np.newaxis], y)\n",
    "\n",
    "        # Evaluate the models using crossvalidation\n",
    "        scores = cross_val_score(pipeline, X[:, np.newaxis], y,\n",
    "                                 scoring=\"neg_mean_squared_error\", cv=5)\n",
    "\n",
    "        # Estimate bias\n",
    "        h_star = true_fun(X) \n",
    "        pipeline.fit(X[:, np.newaxis], h_star)\n",
    "        bias_scores = cross_val_score(pipeline, X[:, np.newaxis], h_star, scoring=\"neg_mean_squared_error\", cv=5)\n",
    "\n",
    "        score.append(-scores.mean())\n",
    "        bias.append(-bias_scores.mean())\n",
    "\n",
    "        # Estimate Variance\n",
    "        variance.append(score[-1] - bias[-1] - noise ** 2)\n",
    "\n",
    "    \n",
    "    fig, axes = plt.subplots(1, 2)\n",
    "    axes[0].plot(degrees, score, label='Total')\n",
    "    axes[0].plot(degrees, bias, label='Bias')\n",
    "    axes[0].plot(degrees, variance, label='Variance')\n",
    "\n",
    "    axes[0].plot(degrees, noise ** 2 * np.ones_like(degrees), '--', label='Noise')\n",
    "    axes[0].legend(loc='upper left')\n",
    "    axes[0].set_ylabel('MSE')\n",
    "    axes[0].set_xlabel('Polynomial degree (Model Complexity)')\n",
    "    axes[0].set_ylim([0, 2])\n",
    "    axes[1].set_title(f\"Degree {degree}\")\n",
    "\n",
    "    \n",
    "    degree = 1 + np.argmin(score)\n",
    "    polynomial_features = PolynomialFeatures(degree=degree, include_bias=True)\n",
    "    linear_regression = Ridge(alpha=alpha)\n",
    "    pipeline = Pipeline([(\"polynomial_features\", polynomial_features),\n",
    "                         (\"linear_regression\", linear_regression)])\n",
    "    pipeline.fit(X[:, np.newaxis], y)\n",
    "\n",
    "    X_test = np.linspace(-1, 2, 100)\n",
    "    axes[1].plot(X_test, pipeline.predict(X_test[:, np.newaxis]), label=\"Model\")\n",
    "    axes[1].plot(X_test, true_fun(X_test), label=\"True function\")\n",
    "    axes[1].scatter(X, y, edgecolor='b', s=20, label=\"Samples\")\n",
    "    axes[1].set_xlabel(\"x\")\n",
    "    axes[1].set_ylabel(\"y\")\n",
    "    axes[1].set_xlim((-0.5, 1.5))\n",
    "    axes[1].set_ylim((-2, 2))\n",
    "    axes[1].legend(loc=\"upper left\")\n",
    "    axes[1].set_title(f\"Degree {degree}\");\n",
    "\n",
    "resample_button = ipywidgets.ToggleButton(description=\"Resample!\")\n",
    "interact(bias_variance_tradeoff,\n",
    "         b=resample_button,\n",
    "         alpha=ipywidgets.BoundedFloatText(value=0,\n",
    "                                         min=0,\n",
    "                                         max=1000,\n",
    "                                         step=0.0001, description='Regularization:',\n",
    "                                         style={'description_width': 'initial'},\n",
    "                                          continuous_update=False),\n",
    "         n_samples=ipywidgets.IntText(value=1500, step=50, description='Samples:', continuous_update=False),\n",
    "         noise=ipywidgets.FloatSlider(value=0.5, min=0, max=1, step=0.01,\n",
    "                                      readout_format='.2f',\n",
    "                                      description='Noise:',\n",
    "                                      continuous_update=False),);\n"
   ]
  },
  {
   "cell_type": "code",
   "execution_count": null,
   "metadata": {
    "scrolled": false
   },
   "outputs": [],
   "source": []
  }
 ],
 "metadata": {
  "celltoolbar": "Raw Cell Format",
  "kernelspec": {
   "display_name": "Python 3",
   "language": "python",
   "name": "python3"
  },
  "language_info": {
   "codemirror_mode": {
    "name": "ipython",
    "version": 3
   },
   "file_extension": ".py",
   "mimetype": "text/x-python",
   "name": "python",
   "nbconvert_exporter": "python",
   "pygments_lexer": "ipython3",
   "version": "3.8.5"
  }
 },
 "nbformat": 4,
 "nbformat_minor": 4
}
